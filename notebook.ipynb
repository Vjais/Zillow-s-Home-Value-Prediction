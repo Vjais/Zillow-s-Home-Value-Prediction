{
 "cells": [
  {
   "cell_type": "code",
   "execution_count": null,
   "metadata": {
    "_uuid": "8f2839f25d086af736a60e9eeb907d3b93b6e0e5",
    "_cell_guid": "b1076dfc-b9ad-4769-8c92-a6c4dae69d19",
    "trusted": false,
    "collapsed": true
   },
   "outputs": [],
   "source": [
    "# This Python 3 environment comes with many helpful analytics libraries installed\n",
    "# It is defined by the kaggle/python docker image: https://github.com/kaggle/docker-python\n",
    "# For example, here's several helpful packages to load in \n",
    "\n",
    "import numpy as np # linear algebra\n",
    "import pandas as pd # data processing, CSV file I/O (e.g. pd.read_csv)\n",
    "\n",
    "# Input data files are available in the \"../input/\" directory.\n",
    "# For example, running this (by clicking run or pressing Shift+Enter) will list the files in the input directory\n",
    "\n",
    "\n",
    "import os\n",
    "print(os.listdir(\"../input\"))\n",
    "\n",
    "# Any results you write to the current directory are saved as output."
   ]
  },
  {
   "cell_type": "code",
   "execution_count": null,
   "metadata": {
    "_uuid": "d629ff2d2480ee46fbb7e2d37f6b5fab8052498a",
    "_cell_guid": "79c7e3d0-c299-4dcb-8224-4455121ee9b0",
    "trusted": false,
    "collapsed": true
   },
   "outputs": [],
   "source": [
    "data16 = pd.read_csv('../input/train_2016_v2.csv',parse_dates=['transactiondate'],low_memory = False)\n",
    "data16.shape\n"
   ]
  },
  {
   "cell_type": "code",
   "execution_count": null,
   "metadata": {
    "_uuid": "93b088cf04f52c338555c95dd172487ebac592bf",
    "_cell_guid": "321e7c7d-21d9-4ef4-b0cf-2ff69807c787",
    "trusted": false,
    "collapsed": true
   },
   "outputs": [],
   "source": [
    "prop16 = pd.read_csv('../input/properties_2016.csv',low_memory=False)\n",
    "prop16.shape"
   ]
  },
  {
   "cell_type": "code",
   "execution_count": null,
   "metadata": {
    "scrolled": true,
    "_uuid": "f5a7adf095715cbc250b5c39e484809365f77305",
    "_cell_guid": "6335ebcb-8ec5-4339-a9cb-e7e8a19ddd7d",
    "trusted": false,
    "collapsed": true
   },
   "outputs": [],
   "source": [
    "data17 = pd.read_csv('../input/train_2017.csv',parse_dates=['transactiondate'],low_memory = False)\n",
    "data17.shape"
   ]
  },
  {
   "cell_type": "code",
   "execution_count": null,
   "metadata": {
    "_uuid": "82918071f54d05b10a1a51556cc7cd588b37e3ee",
    "_cell_guid": "c1696e11-f15b-49b0-ae9e-b86fa6fa30bf",
    "trusted": false,
    "collapsed": true
   },
   "outputs": [],
   "source": [
    "prop17 = pd.read_csv('../input/properties_2017.csv',low_memory=False)\n",
    "prop17.shape"
   ]
  },
  {
   "cell_type": "code",
   "execution_count": null,
   "metadata": {
    "scrolled": true,
    "_uuid": "feb84b146a1ff4e08b74b97c57605571fc284102",
    "_cell_guid": "34fe11c6-a788-4bfe-9134-f355e86a0e52",
    "trusted": false,
    "collapsed": true
   },
   "outputs": [],
   "source": [
    "import datetime as dt\n",
    "\n",
    "data16[\"transaction_year\"] = data16[\"transactiondate\"].dt.year\n",
    "data16[\"transaction_month\"] =data16[\"transactiondate\"].dt.month\n",
    "data16[\"transaction_day\"] = data16[\"transactiondate\"].dt.day\n",
    "data16.drop([\"transactiondate\"], inplace=True, axis=1)\n",
    "\n",
    "data17[\"transaction_year\"] = data17[\"transactiondate\"].dt.year\n",
    "data17[\"transaction_month\"] =data17[\"transactiondate\"].dt.month\n",
    "data17[\"transaction_day\"] = data17[\"transactiondate\"].dt.day\n",
    "data17.drop([\"transactiondate\"], inplace=True, axis=1)\n",
    "print(data16)"
   ]
  },
  {
   "cell_type": "code",
   "execution_count": null,
   "metadata": {
    "_uuid": "a57643c003cf1f42d3942b36e4367e09219db711",
    "_cell_guid": "e9c48787-1b5b-4e54-bc2c-20b046a3403b",
    "trusted": false,
    "collapsed": true
   },
   "outputs": [],
   "source": [
    "#Fill missing in prop16\n",
    "prop16.fillna(-111,inplace = True)\n",
    "print(prop16)\n",
    "#Fill missing in prop17\n",
    "prop17.fillna(-111,inplace = True)\n",
    "print(prop17)\n"
   ]
  },
  {
   "cell_type": "code",
   "execution_count": null,
   "metadata": {
    "_uuid": "6be4d64cac71ccd02902900d4b9b2a5c90b3b47a",
    "collapsed": true,
    "_cell_guid": "5f1ae5ad-8050-4a6f-9d38-eae7d65c3f56",
    "trusted": false
   },
   "outputs": [],
   "source": [
    "\n",
    "train2016 = pd.merge(data16, prop16, how = 'left', on = 'parcelid')\n",
    "train2017 = pd.merge(data17, prop17, how = 'left', on = 'parcelid')\n",
    "template = pd.read_csv('../input/sample_submission.csv', low_memory = False)\n",
    "#train2017.iloc[:, train2017.columns.str.startswith('tax')] = np.nan\n",
    "\n",
    "train_df = pd.concat([train2016, train2017], axis = 0)\n",
    "test_df = pd.merge(template[['ParcelId']], prop16.rename(columns = {'parcelid': 'ParcelId'}), how = 'left', on = 'ParcelId')\n"
   ]
  },
  {
   "cell_type": "code",
   "execution_count": null,
   "metadata": {
    "_uuid": "dbcb6abd74ce70ce2896822adb977ec42c799ed6",
    "collapsed": true,
    "_cell_guid": "40453ee5-f019-4c80-aa46-908b82899d7e",
    "trusted": false
   },
   "outputs": [],
   "source": [
    "train_df.shape"
   ]
  },
  {
   "cell_type": "code",
   "execution_count": null,
   "metadata": {
    "_uuid": "9172bb5ee0e99dba7463a3edfc3734cbf9ffcfd5",
    "_cell_guid": "36bda3d9-8817-4220-aa34-283d61b0327d",
    "trusted": false,
    "collapsed": true
   },
   "outputs": [],
   "source": [
    "for dtype in train_df.columns:\n",
    "    if dtype == np.float64:\n",
    "        train_df[c] = train_df[c].astype(np.float32)\n",
    "train_df.info()"
   ]
  },
  {
   "cell_type": "code",
   "execution_count": null,
   "metadata": {
    "_uuid": "fc3bf0830756166f7bde423e2cfc1de2126e337e",
    "_cell_guid": "caba6fe0-157b-4708-89b6-8a3860592073",
    "trusted": false,
    "collapsed": true
   },
   "outputs": [],
   "source": [
    "from sklearn import preprocessing\n",
    "for feature in train_df.columns:\n",
    "    if train_df[feature].dtype=='object':\n",
    "        label = preprocessing.LabelEncoder()\n",
    "        label.fit(list(train_df[feature].values)) \n",
    "        train_df[feature] = label.transform(list(train_df[feature].values))\n",
    "train_df.info()     "
   ]
  },
  {
   "cell_type": "code",
   "execution_count": null,
   "metadata": {
    "_uuid": "e3446a510795f311f06b7f8f32549c35921da370",
    "_cell_guid": "2eccf646-43e4-45fd-b4fc-624225d29943",
    "trusted": false,
    "collapsed": true
   },
   "outputs": [],
   "source": [
    "dftrain = train_df\n",
    "xtrain = dftrain.drop(['parcelid', 'logerror', 'propertyzoningdesc', 'propertycountylandusecode'], axis=1)\n",
    "ytrain = dftrain['logerror'].values\n",
    "xtrain,ytrain"
   ]
  },
  {
   "cell_type": "code",
   "execution_count": null,
   "metadata": {
    "_uuid": "4152059fdb96a079e5ba03677e619fe7b98b466d",
    "_cell_guid": "a1254191-324d-4e51-a9c0-72f568f7764e",
    "trusted": false,
    "collapsed": true
   },
   "outputs": [],
   "source": [
    "test_df['transactiondate'] = pd.Timestamp('2016-12-01') \n",
    "test_df[\"transaction_year\"] = test_df[\"transactiondate\"].dt.year\n",
    "test_df[\"transaction_month\"] =test_df[\"transactiondate\"].dt.month\n",
    "test_df[\"transaction_day\"] = test_df[\"transactiondate\"].dt.day\n",
    "test_df.drop([\"transactiondate\"], inplace=True, axis=1)\n",
    "\n",
    "test_df.info()"
   ]
  },
  {
   "cell_type": "code",
   "execution_count": null,
   "metadata": {
    "_uuid": "72d5a679d85065f9db66cba97712f70ce6baa8ae",
    "_cell_guid": "fe115c5a-c54c-4a54-8c4f-fbd5b3c1b036",
    "trusted": false,
    "collapsed": true
   },
   "outputs": [],
   "source": [
    "from sklearn import preprocessing\n",
    "for feature in test_df.columns:\n",
    "    if test_df[feature].dtype=='object':\n",
    "        label = preprocessing.LabelEncoder()\n",
    "        label.fit(list(test_df[feature].values)) \n",
    "        test_df[feature] = label.transform(list(test_df[feature].values))\n",
    "train_df.info()    \n",
    "\n",
    "temp=[]\n",
    "for col in xtrain.columns:\n",
    "    temp.append(col)\n",
    "temp"
   ]
  },
  {
   "cell_type": "code",
   "execution_count": null,
   "metadata": {
    "scrolled": true,
    "_uuid": "f4aecb978960b265b91d8e676624c6952d989ec0",
    "_cell_guid": "4f564f41-d9be-499b-aa70-427a7a086772",
    "trusted": false,
    "collapsed": true
   },
   "outputs": [],
   "source": [
    "from sklearn.ensemble import AdaBoostRegressor\n",
    "regressor=AdaBoostRegressor()\n",
    "#regressor.fit(xtrain,ytrain)\n",
    "\n",
    "#from catboost import CatBoostClassifier\n",
    "#regressor=CatBoostClassifier()\n",
    "\n",
    "regressor.fit(xtrain,ytrain)\n",
    "xtrain.shape"
   ]
  },
  {
   "cell_type": "code",
   "execution_count": null,
   "metadata": {
    "_uuid": "fa5a60cccefb038944d73d6378d4006de7f24066",
    "_cell_guid": "ed059003-4e88-4b82-8486-879e2e8b798e",
    "trusted": false,
    "collapsed": true
   },
   "outputs": [],
   "source": [
    "test_df.shape\n",
    "xtest=test_df[temp]\n",
    "y_pred=regressor.predict(xtest)\n",
    "\n"
   ]
  },
  {
   "cell_type": "code",
   "execution_count": null,
   "metadata": {
    "_uuid": "bc1668aec1f85263ab3ab98697702057fd3ebb0b",
    "_cell_guid": "b605fe95-a9d3-42bb-82a6-f28823d9c3de",
    "trusted": false,
    "collapsed": true
   },
   "outputs": [],
   "source": [
    "submission = pd.DataFrame({\n",
    "    'ParcelId': test_df['ParcelId'],\n",
    "})\n",
    "test_dates = {\n",
    "    '201610': pd.Timestamp('2016-09-30'),\n",
    "    '201611': pd.Timestamp('2016-10-31'),\n",
    "    '201612': pd.Timestamp('2016-11-30'),\n",
    "    '201710': pd.Timestamp('2017-09-30'),\n",
    "    '201711': pd.Timestamp('2017-10-31'),\n",
    "    '201712': pd.Timestamp('2017-11-30')\n",
    "}\n",
    "for label, test_date in test_dates.items():\n",
    "    print(\"Predicting for: %s ... \" % (label))\n",
    "    submission[label] = y_pred"
   ]
  },
  {
   "cell_type": "code",
   "execution_count": null,
   "metadata": {
    "_uuid": "a562bc0215b59b9e334b5d49913b7a640ad5d501",
    "collapsed": true,
    "_cell_guid": "034d776d-4b62-4027-b239-e0d9c0fdcba6",
    "trusted": false
   },
   "outputs": [],
   "source": [
    "submission.to_csv('Only_CatBoost.csv', float_format='%.6f',index=False)"
   ]
  }
 ],
 "metadata": {
  "kernelspec": {
   "display_name": "Python 3",
   "language": "python",
   "name": "python3"
  },
  "language_info": {
   "file_extension": ".py",
   "codemirror_mode": {
    "name": "ipython",
    "version": 3
   },
   "pygments_lexer": "ipython3",
   "name": "python",
   "version": "3.6.5",
   "mimetype": "text/x-python",
   "nbconvert_exporter": "python"
  }
 },
 "nbformat": 4,
 "nbformat_minor": 1
}
